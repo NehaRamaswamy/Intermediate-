{
 "cells": [
  {
   "cell_type": "markdown",
   "id": "2303c352",
   "metadata": {},
   "source": [
    "# Task 3 : Password Strength Checker"
   ]
  },
  {
   "cell_type": "code",
   "execution_count": 1,
   "id": "a608346b",
   "metadata": {},
   "outputs": [
    {
     "name": "stdout",
     "output_type": "stream",
     "text": [
      "Enter a password: sdwx~1\n",
      "Password does not meet the requirements. Please try again.\n",
      "Enter a password: Shree@1`\n",
      "Password accepted: Shree@1`\n"
     ]
    }
   ],
   "source": [
    "def validate_password(password):\n",
    "    if len(password) < 8:\n",
    "        return False\n",
    "    \n",
    "    has_lowercase = False\n",
    "    has_uppercase = False\n",
    "    has_digit = False\n",
    "    \n",
    "    for char in password:\n",
    "        if char.islower():\n",
    "            has_lowercase = True\n",
    "        elif char.isupper():\n",
    "            has_uppercase = True\n",
    "        elif char.isdigit():\n",
    "            has_digit = True\n",
    "\n",
    "    return has_lowercase and has_uppercase and has_digit\n",
    "\n",
    "def get_valid_password():\n",
    "    while True:\n",
    "        password = input(\"Enter a password: \")\n",
    "        if validate_password(password):\n",
    "            return password\n",
    "        else:\n",
    "            print(\"Password does not meet the requirements. Please try again.\")\n",
    "\n",
    "valid_password = get_valid_password()\n",
    "print(f\"Password accepted: {valid_password}\")\n"
   ]
  },
  {
   "cell_type": "code",
   "execution_count": null,
   "id": "7a0d82bc",
   "metadata": {},
   "outputs": [],
   "source": []
  }
 ],
 "metadata": {
  "kernelspec": {
   "display_name": "Python 3 (ipykernel)",
   "language": "python",
   "name": "python3"
  },
  "language_info": {
   "codemirror_mode": {
    "name": "ipython",
    "version": 3
   },
   "file_extension": ".py",
   "mimetype": "text/x-python",
   "name": "python",
   "nbconvert_exporter": "python",
   "pygments_lexer": "ipython3",
   "version": "3.11.5"
  }
 },
 "nbformat": 4,
 "nbformat_minor": 5
}
