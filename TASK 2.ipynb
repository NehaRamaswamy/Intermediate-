{
 "cells": [
  {
   "cell_type": "code",
   "execution_count": 5,
   "id": "0917780a",
   "metadata": {},
   "outputs": [
    {
     "name": "stdout",
     "output_type": "stream",
     "text": [
      "Guess the Random number and enter start and end range\n",
      "12\n",
      "67\n",
      "Enter the guessing number34\n",
      "Number is too high\n",
      "Enter the guessing number12\n",
      "Number is too low\n",
      "Enter the guessing number18\n",
      "Number is too low\n",
      "Enter the guessing number20\n",
      "Number is too low\n",
      "Enter the guessing number30\n",
      "Correct !!!\n"
     ]
    }
   ],
   "source": [
    "import random\n",
    "\n",
    "def num_guess(number):\n",
    "    while True:\n",
    "        guess = int(input(\"Enter the guessing number\"))\n",
    "        if guess == number:\n",
    "            print(\"Correct !!!\")\n",
    "            break\n",
    "        elif guess < number :\n",
    "            print(\"Number is too low\")\n",
    "        elif guess > number : \n",
    "            print(\"Number is too high\")\n",
    "        else:\n",
    "            print(\"Invalid value\")\n",
    "            break\n",
    "\n",
    "\n",
    "\n",
    "print(\"Guess the Random number and enter start and end range\")\n",
    "min_number= int(input())\n",
    "max_number = int(input())\n",
    "\n",
    "if min_number>max_number:\n",
    "    print(\"Staring range is too high than ending range\")\n",
    "    \n",
    "\n",
    "number=random.randint(min_number,max_number)\n",
    "\n",
    "num_guess(number)"
   ]
  },
  {
   "cell_type": "code",
   "execution_count": null,
   "id": "58b79599",
   "metadata": {},
   "outputs": [],
   "source": []
  }
 ],
 "metadata": {
  "kernelspec": {
   "display_name": "Python 3 (ipykernel)",
   "language": "python",
   "name": "python3"
  },
  "language_info": {
   "codemirror_mode": {
    "name": "ipython",
    "version": 3
   },
   "file_extension": ".py",
   "mimetype": "text/x-python",
   "name": "python",
   "nbconvert_exporter": "python",
   "pygments_lexer": "ipython3",
   "version": "3.11.5"
  }
 },
 "nbformat": 4,
 "nbformat_minor": 5
}
