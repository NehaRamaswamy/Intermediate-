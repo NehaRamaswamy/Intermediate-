{
 "cells": [
  {
   "cell_type": "markdown",
   "id": "eef3a594",
   "metadata": {},
   "source": [
    "# Task 1 : Guessing Game"
   ]
  },
  {
   "cell_type": "code",
   "execution_count": 1,
   "id": "a3a1bff3",
   "metadata": {},
   "outputs": [
    {
     "name": "stdout",
     "output_type": "stream",
     "text": [
      "Guessing The Number Game!!!\n",
      "Enter the numbers from 1 to 100\t46\n",
      "Guess is too high\n",
      "Enter the numbers from 1 to 100\t33\n",
      "Guess is too high\n",
      "Enter the numbers from 1 to 100\t22\n",
      "Guess is too high\n",
      "Enter the numbers from 1 to 100\t12\n",
      "Guess is too high\n",
      "Enter the numbers from 1 to 100\t7\n",
      "Guess is too high\n",
      "Enter the numbers from 1 to 100\t2\n",
      "Guess is too low\n",
      "Enter the numbers from 1 to 100\t4\n",
      "Correct!!!\n"
     ]
    }
   ],
   "source": [
    "import random \n",
    "\n",
    "number=random.randint(1,100)\n",
    "\n",
    "def num_guess():\n",
    "    while True:\n",
    "\n",
    "        guess=int(input(\"Enter the numbers from 1 to 100\\t\"))\n",
    "\n",
    "        if guess == number:\n",
    "            print(\"Correct!!!\")\n",
    "            break\n",
    "        elif guess > number:\n",
    "            print(\"Guess is too high\")\n",
    "        elif guess < number:\n",
    "            print(\"Guess is too low\")\n",
    "        else:\n",
    "            print(\"Invalid input\")\n",
    "\n",
    "print(\"Guessing The Number Game!!!\")  \n",
    "\n",
    "num_guess()"
   ]
  },
  {
   "cell_type": "code",
   "execution_count": null,
   "id": "a5e8636f",
   "metadata": {},
   "outputs": [],
   "source": []
  }
 ],
 "metadata": {
  "kernelspec": {
   "display_name": "Python 3 (ipykernel)",
   "language": "python",
   "name": "python3"
  },
  "language_info": {
   "codemirror_mode": {
    "name": "ipython",
    "version": 3
   },
   "file_extension": ".py",
   "mimetype": "text/x-python",
   "name": "python",
   "nbconvert_exporter": "python",
   "pygments_lexer": "ipython3",
   "version": "3.11.5"
  }
 },
 "nbformat": 4,
 "nbformat_minor": 5
}
