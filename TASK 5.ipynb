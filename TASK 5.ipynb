{
 "cells": [
  {
   "cell_type": "markdown",
   "id": "6374d2f2",
   "metadata": {},
   "source": [
    "# Task 5 : File Manipulation"
   ]
  },
  {
   "cell_type": "code",
   "execution_count": 1,
   "id": "eeeca7c5",
   "metadata": {},
   "outputs": [
    {
     "name": "stdout",
     "output_type": "stream",
     "text": [
      "Word counts:\n",
      "(bytecode-compiled): 1\n",
      "a: 3\n",
      "advantages: 1\n",
      "and: 7\n",
      "are: 1\n",
      "c++.: 1\n",
      "checking: 1\n",
      "code: 2\n",
      "code.: 1\n",
      "compared: 1\n",
      "compile-time: 1\n",
      "compiled: 1\n",
      "declarations: 1\n",
      "dynamic,: 1\n",
      "dynamically: 1\n",
      "features: 1\n",
      "flexible,: 1\n",
      "functional: 1\n",
      "functions,: 1\n",
      "garbage-collected,: 1\n",
      "general-purpose,: 1\n",
      "high-level,: 1\n",
      "in: 1\n",
      "interpreted: 1\n",
      "interpreted,: 1\n",
      "is: 3\n",
      "java: 1\n",
      "language: 2\n",
      "language.: 1\n",
      "languages: 1\n",
      "like: 1\n",
      "lose: 1\n",
      "makes: 1\n",
      "methods: 1\n",
      "no: 1\n",
      "object-oriented: 1\n",
      "object-oriented,: 1\n",
      "of: 2\n",
      "offers: 1\n",
      "or: 1\n",
      "parameters,: 1\n",
      "procedural,: 1\n",
      "programming: 2\n",
      "programming.: 1\n",
      "purely: 1\n",
      "python: 3\n",
      "several: 1\n",
      "short: 1\n",
      "source: 2\n",
      "supports: 1\n",
      "that: 2\n",
      "the: 3\n",
      "there: 1\n",
      "this: 1\n",
      "to: 1\n",
      "type: 2\n",
      "typed,: 1\n",
      "unique: 1\n",
      "used: 1\n",
      "variables,: 1\n",
      "widely: 1\n",
      "you: 1\n"
     ]
    }
   ],
   "source": [
    "# Read the contents of the file\n",
    "with open(\"input.txt\", \"r\") as f:\n",
    "    text = f.read()\n",
    "\n",
    "# Split the text into words\n",
    "words = text.split()\n",
    "\n",
    "# Count the occurrences of each word\n",
    "word_counts = {}\n",
    "for word in words:\n",
    "    word = word.lower()\n",
    "    if word in word_counts:\n",
    "        word_counts[word] += 1\n",
    "    else:\n",
    "        word_counts[word] = 1\n",
    "\n",
    "# Sort the word counts alphabetically\n",
    "sorted_word_counts = sorted(word_counts.items())\n",
    "\n",
    "# Display the results\n",
    "print(\"Word counts:\")\n",
    "for word, count in sorted_word_counts:\n",
    "    print(f\"{word}: {count}\")"
   ]
  },
  {
   "cell_type": "code",
   "execution_count": null,
   "id": "446bad0e",
   "metadata": {},
   "outputs": [],
   "source": []
  }
 ],
 "metadata": {
  "kernelspec": {
   "display_name": "Python 3 (ipykernel)",
   "language": "python",
   "name": "python3"
  },
  "language_info": {
   "codemirror_mode": {
    "name": "ipython",
    "version": 3
   },
   "file_extension": ".py",
   "mimetype": "text/x-python",
   "name": "python",
   "nbconvert_exporter": "python",
   "pygments_lexer": "ipython3",
   "version": "3.11.5"
  }
 },
 "nbformat": 4,
 "nbformat_minor": 5
}
